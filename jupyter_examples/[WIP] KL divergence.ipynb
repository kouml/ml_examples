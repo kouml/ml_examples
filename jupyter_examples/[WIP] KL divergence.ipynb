{
 "cells": [
  {
   "cell_type": "code",
   "execution_count": 11,
   "metadata": {
    "collapsed": true
   },
   "outputs": [],
   "source": [
    "import pandas as pd\n",
    "import numpy as np\n",
    "import scipy\n",
    "import matplotlib.pyplot as plt\n",
    "%matplotlib inline"
   ]
  },
  {
   "cell_type": "code",
   "execution_count": 12,
   "metadata": {
    "collapsed": false
   },
   "outputs": [],
   "source": [
    "# from IPython.core.interactiveshell import InteractiveShell\n",
    "# InteractiveShell.ast_node_interactivity = \"all\""
   ]
  },
  {
   "cell_type": "markdown",
   "metadata": {},
   "source": [
    "Kullbuck-Leibler Divergence(KL Divergence) is  a measure on $P(X)$ and $Q(X)$."
   ]
  },
  {
   "cell_type": "markdown",
   "metadata": {},
   "source": [
    "$P(X) = N(0, 2)$  \n",
    "$Q(X) = N(0, 3)$"
   ]
  },
  {
   "cell_type": "code",
   "execution_count": 24,
   "metadata": {
    "collapsed": false
   },
   "outputs": [
    {
     "data": {
      "image/png": "[encoded data removed]",
      "text/plain": [
       "<matplotlib.figure.Figure at 0x114be6b38>"
      ]
     },
     "metadata": {},
     "output_type": "display_data"
    }
   ],
   "source": [
    "mu = 0 \n",
    "sigma_p = 2\n",
    "sigma_q = 3\n",
    "\n",
    "min_x = -10\n",
    "max_x = 10\n",
    "x = np.linspace(min_x, max_x, 100)\n",
    "\n",
    "P_x = (1/np.sqrt(2*np.pi*sigma_p**2))*np.exp(-0.5*(x-mu)**2/sigma_p**2)\n",
    "Q_x = (1/np.sqrt(2*np.pi*sigma_q**2))*np.exp(-0.5*(x-mu)**2/sigma_q**2)\n",
    "\n",
    "plt.figure(figsize=(8, 5))\n",
    "plt.xlim(min_x, max_x)\n",
    "plt.ylim(0 , max(X)*1.1)\n",
    "plt.plot(x, P_x, color='green', label='P(X)')\n",
    "plt.plot(x, Q_x, color='blue', label='Q(X)')\n",
    "\n",
    "plt.legend(loc='best')\n",
    "plt.show()"
   ]
  },
  {
   "cell_type": "markdown",
   "metadata": {},
   "source": [
    "KL Divergence could be compute as follows:\n",
    "\n",
    "$$\n",
    "    D_{KL}[P(X)||Q(X)] = \\sum_{x \\in_{X} } P(x) \\log (\\frac{P(x)}{Q(x)}) \\\\\n",
    "    D_{KL}[P(X)||Q(X)] = \\int P(x) \\log (\\frac{P(x)}{Q(x)})\n",
    "$$"
   ]
  },
  {
   "cell_type": "markdown",
   "metadata": {},
   "source": [
    "for random all variable $x \\in X$   \n",
    "KL Divergence calculates the weighted average on the difference between those distributions at $x$."
   ]
  },
  {
   "cell_type": "code",
   "execution_count": 27,
   "metadata": {
    "collapsed": false
   },
   "outputs": [
    {
     "data": {
      "text/plain": [
       "0.63206787763473582"
      ]
     },
     "execution_count": 27,
     "metadata": {},
     "output_type": "execute_result"
    }
   ],
   "source": [
    "KL = np.sum(P_x * (np.log(P_x/Q_x)))\n",
    "KL"
   ]
  },
  {
   "cell_type": "code",
   "execution_count": 29,
   "metadata": {
    "collapsed": false
   },
   "outputs": [
    {
     "data": {
      "text/plain": [
       "1.0572156418087155"
      ]
     },
     "execution_count": 29,
     "metadata": {},
     "output_type": "execute_result"
    }
   ],
   "source": [
    "KL_r = np.sum(Q_x * (np.log(Q_x/P_x)))\n",
    "KL_r"
   ]
  },
  {
   "cell_type": "markdown",
   "metadata": {},
   "source": [
    "and KL Divergence can be written as follows:"
   ]
  },
  {
   "cell_type": "markdown",
   "metadata": {},
   "source": [
    "**KL Divergence(Relative Entropy)**\n",
    "$$\n",
    "    D_{KL}(P(X)||Q(X)) = H (P(X), Q(X)) - H(P(X))\n",
    "$$\n",
    "\n",
    "**Entropy**\n",
    "$$\n",
    "    H(P(X)) = - \\sum_{x \\in X} P(x) \\log(P(x))\n",
    "$$\n",
    "\n",
    "**Cross Entropy**\n",
    "$$\n",
    "    H(P(X), Q(X)) = - \\sum_{x \\in X} P(x) \\log(Q(x))\n",
    "$$\n",
    "\n",
    "**math expand**\n",
    "$$\n",
    "\\begin{aligned}\n",
    "    D_{KL}(P(X)||Q(X)) &= H (P(X), Q(X)) - H(P(X)) \\\\\n",
    "    &= - \\sum_{x \\in X} P(x) \\log(Q(x)) - (- \\sum_{x \\in X} P(x) \\log(P(x))) \\\\\n",
    "    &= - \\sum_{x \\in X} P(x) (\\log(Q(x)) - \\log(P(x))) \\\\\n",
    "    &= - \\sum_{x \\in X} P(x) (\\frac{\\log(Q(x))}{\\log(P(x))}) \\\\    \n",
    "    &= \\sum_{x \\in X} P(x) (\\frac{\\log(P(x))}{\\log(Q(x))}) \\\\        \n",
    "\\end{aligned}\n",
    "$$\n"
   ]
  },
  {
   "cell_type": "markdown",
   "metadata": {},
   "source": [
    "## Interpretation as an information theory"
   ]
  },
  {
   "cell_type": "markdown",
   "metadata": {},
   "source": [
    "$P(X):$  true information  \n",
    "$Q(X):$  compressed information"
   ]
  },
  {
   "cell_type": "code",
   "execution_count": null,
   "metadata": {
    "collapsed": true
   },
   "outputs": [],
   "source": []
  },
  {
   "cell_type": "markdown",
   "metadata": {},
   "source": [
    "## Interpretation as an probability distribution"
   ]
  },
  {
   "cell_type": "markdown",
   "metadata": {},
   "source": [
    "$P(X):$  The true distribution  \n",
    "$Q(X):$  The predictive distribution"
   ]
  },
  {
   "cell_type": "code",
   "execution_count": null,
   "metadata": {
    "collapsed": true
   },
   "outputs": [],
   "source": []
  },
  {
   "cell_type": "markdown",
   "metadata": {},
   "source": [
    "## references"
   ]
  },
  {
   "cell_type": "markdown",
   "metadata": {},
   "source": [
    "http://www.cs.cmu.edu/~odonnell/toolkit13/lecture20.pdf"
   ]
  }
 ],
 "metadata": {
  "kernelspec": {
   "display_name": "Python 3",
   "language": "python",
   "name": "python3"
  },
  "language_info": {
   "codemirror_mode": {
    "name": "ipython",
    "version": 3
   },
   "file_extension": ".py",
   "mimetype": "text/x-python",
   "name": "python",
   "nbconvert_exporter": "python",
   "pygments_lexer": "ipython3",
   "version": "3.6.0"
  }
 },
 "nbformat": 4,
 "nbformat_minor": 2
}
